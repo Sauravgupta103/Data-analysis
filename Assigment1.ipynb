{
 "cells": [
  {
   "cell_type": "markdown",
   "id": "d12d1580-d457-42fe-99d4-5ad2515c0c50",
   "metadata": {},
   "source": [
    "Q1. Covert a iteger to a floatig-poit umber."
   ]
  },
  {
   "cell_type": "code",
   "execution_count": 2,
   "id": "3ce09870-da89-4756-8dac-8e3cfd7d0986",
   "metadata": {},
   "outputs": [
    {
     "name": "stdout",
     "output_type": "stream",
     "text": [
      "11.0\n"
     ]
    }
   ],
   "source": [
    "num= 11\n",
    "float_num = float(num)\n",
    "print(float(num))"
   ]
  },
  {
   "cell_type": "markdown",
   "id": "c38f6f46-e2d2-4927-9eef-8de41a8e9794",
   "metadata": {},
   "source": [
    "Q2. Covert a float to a iteger."
   ]
  },
  {
   "cell_type": "code",
   "execution_count": 3,
   "id": "3737cc44-4d6f-4f5d-9303-357557feac8e",
   "metadata": {},
   "outputs": [
    {
     "name": "stdout",
     "output_type": "stream",
     "text": [
      "11\n"
     ]
    }
   ],
   "source": [
    "num= int(float(num))\n",
    "print(num)"
   ]
  },
  {
   "cell_type": "markdown",
   "id": "027e4dee-e326-480f-ae35-d55353be8d9c",
   "metadata": {},
   "source": [
    "Q3. Covert a iteger to a string."
   ]
  },
  {
   "cell_type": "code",
   "execution_count": 6,
   "id": "591d02df-8cc3-40f0-b8a7-06fdedc0c1aa",
   "metadata": {},
   "outputs": [
    {
     "name": "stdout",
     "output_type": "stream",
     "text": [
      "11\n",
      "<class 'str'>\n"
     ]
    }
   ],
   "source": [
    "str_num= str(num)\n",
    "print(str_num)\n",
    "print(type(str_num))"
   ]
  },
  {
   "cell_type": "markdown",
   "id": "a36878d8-3057-4af4-9621-e058d4a8a514",
   "metadata": {},
   "source": [
    "Q4. Covert a list to a tuple."
   ]
  },
  {
   "cell_type": "code",
   "execution_count": 7,
   "id": "5641719e-f8f7-4257-952f-a170604198aa",
   "metadata": {},
   "outputs": [
    {
     "name": "stdout",
     "output_type": "stream",
     "text": [
      "(1, 2, 'man')\n"
     ]
    }
   ],
   "source": [
    "list1=[1,2,\"man\"]\n",
    "tup= tuple(list1)\n",
    "print(tup)"
   ]
  },
  {
   "cell_type": "markdown",
   "id": "1e5059f1-2eea-4e19-b4a5-81514fff68e4",
   "metadata": {},
   "source": [
    "Q5. Covert a tuple to a list."
   ]
  },
  {
   "cell_type": "code",
   "execution_count": 8,
   "id": "d42c201d-47de-4cd3-a09a-78a8aec2a1e2",
   "metadata": {},
   "outputs": [
    {
     "name": "stdout",
     "output_type": "stream",
     "text": [
      "[1, 2, 'man']\n"
     ]
    }
   ],
   "source": [
    "list1= list(tup)\n",
    "print(list1)"
   ]
  },
  {
   "cell_type": "markdown",
   "id": "f52fcbd4-87a0-45c6-a4d7-f03793fd7f58",
   "metadata": {},
   "source": [
    "Q6. Covert a decimal number to binary."
   ]
  },
  {
   "cell_type": "code",
   "execution_count": 12,
   "id": "aeb4d730-0a2b-482d-8a5b-8275e7b22cdb",
   "metadata": {},
   "outputs": [
    {
     "data": {
      "text/plain": [
       "'0b1011'"
      ]
     },
     "execution_count": 12,
     "metadata": {},
     "output_type": "execute_result"
    }
   ],
   "source": [
    "float_num\n",
    "bin(int(float_num))"
   ]
  },
  {
   "cell_type": "markdown",
   "id": "c5b7990e-3936-4c20-a27a-331168dcbcb0",
   "metadata": {},
   "source": [
    "Q7. Covert a  non-zero number to boolean."
   ]
  },
  {
   "cell_type": "code",
   "execution_count": 13,
   "id": "2a5ff077-6c2d-4faf-898c-bf16834a3a2f",
   "metadata": {},
   "outputs": [
    {
     "data": {
      "text/plain": [
       "True"
      ]
     },
     "execution_count": 13,
     "metadata": {},
     "output_type": "execute_result"
    }
   ],
   "source": [
    "num=11\n",
    "bool(num)"
   ]
  }
 ],
 "metadata": {
  "kernelspec": {
   "display_name": "Python 3 (ipykernel)",
   "language": "python",
   "name": "python3"
  },
  "language_info": {
   "codemirror_mode": {
    "name": "ipython",
    "version": 3
   },
   "file_extension": ".py",
   "mimetype": "text/x-python",
   "name": "python",
   "nbconvert_exporter": "python",
   "pygments_lexer": "ipython3",
   "version": "3.10.8"
  }
 },
 "nbformat": 4,
 "nbformat_minor": 5
}
