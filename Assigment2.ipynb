{
 "cells": [
  {
   "cell_type": "code",
   "execution_count": 4,
   "id": "45029e4f-ac4e-41d0-b693-76d63470a88c",
   "metadata": {},
   "outputs": [
    {
     "name": "stdout",
     "output_type": "stream",
     "text": [
      "Sum: 15\n",
      "Difference: 5\n",
      "Product: 50\n",
      "Quotient: 2.0\n",
      "After addition assignment: 15\n",
      "True\n",
      "True\n",
      "True\n",
      "After changing sign: -10\n",
      "Bitwise AND: 1\n",
      "Bitwise OR: 7\n",
      "Bitwise XOR: 6\n",
      "Bitwise NOT: -6\n",
      "a is greater than b\n"
     ]
    }
   ],
   "source": [
    "# Arithmetic operations\n",
    "num1 = 10\n",
    "num2 = 5\n",
    "\n",
    "# Calculate the sum, difference, product, and quotient of two numbers\n",
    "sum_result = num1 + num2\n",
    "difference_result = num1 - num2\n",
    "product_result = num1 * num2\n",
    "quotient_result = num1 / num2\n",
    "\n",
    "print(\"Sum:\", sum_result)\n",
    "print(\"Difference:\", difference_result)\n",
    "print(\"Product:\", product_result)\n",
    "print(\"Quotient:\", quotient_result)\n",
    "\n",
    "# Arithmetic assignment operations\n",
    "a = 10\n",
    "a += 5  # Same as a = a + 5\n",
    "print(\"After addition assignment:\", a)\n",
    "\n",
    "# Comparison operations\n",
    "x = 10\n",
    "y = 5\n",
    "print(x>y)\n",
    "\n",
    "# Logical operators\n",
    "condition1 = True\n",
    "condition2 = False\n",
    "print(condition1 != condition2)\n",
    "\n",
    "\n",
    "# Identity check\n",
    "a = 10\n",
    "b = 10\n",
    "print(a is b)\n",
    "\n",
    "# Unary operators\n",
    "num = 10\n",
    "num = -num  # Change the sign of the number\n",
    "print(\"After changing sign:\", num)\n",
    "\n",
    "# Bitwise operations\n",
    "num1 = 5\n",
    "num2 = 3\n",
    "bitwise_and = num1 & num2\n",
    "bitwise_or = num1 | num2\n",
    "bitwise_xor = num1 ^ num2\n",
    "bitwise_not = ~num1\n",
    "print(\"Bitwise AND:\", bitwise_and)\n",
    "print(\"Bitwise OR:\", bitwise_or)\n",
    "print(\"Bitwise XOR:\", bitwise_xor)\n",
    "print(\"Bitwise NOT:\", bitwise_not)\n",
    "\n",
    "# Ternary operator\n",
    "a = 10\n",
    "b = 5\n",
    "result = \"a is greater than b\" if a > b else \"a is less than or equal to b\"\n",
    "print(result)\n"
   ]
  },
  {
   "cell_type": "code",
   "execution_count": null,
   "id": "05011d55-f807-4736-8d08-f65739577a24",
   "metadata": {},
   "outputs": [],
   "source": []
  }
 ],
 "metadata": {
  "kernelspec": {
   "display_name": "Python 3 (ipykernel)",
   "language": "python",
   "name": "python3"
  },
  "language_info": {
   "codemirror_mode": {
    "name": "ipython",
    "version": 3
   },
   "file_extension": ".py",
   "mimetype": "text/x-python",
   "name": "python",
   "nbconvert_exporter": "python",
   "pygments_lexer": "ipython3",
   "version": "3.10.8"
  }
 },
 "nbformat": 4,
 "nbformat_minor": 5
}
