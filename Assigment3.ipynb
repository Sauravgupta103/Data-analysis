{
 "cells": [
  {
   "cell_type": "markdown",
   "id": "b93f34e2-f3fc-42bf-9028-d8838cc10eb7",
   "metadata": {},
   "source": [
    "# ans1-\n",
    "Python keywords are reserved words in the Python language that have predefined meanings and functionalities. They play a crucial role in the syntax and structure of Python code. Using keywords as identifiers (such as variable names, function names, etc.) is not allowed, as they have special significance within the language.\n",
    "\n",
    "keyword examples are- if, def, class, str, int, etc."
   ]
  },
  {
   "cell_type": "markdown",
   "id": "a38ef2c5-88b8-4736-a83a-f7c0a244a2da",
   "metadata": {},
   "source": [
    "# ans2-\n",
    "Characters Allowed: Identifiers can contain letters (both uppercase and lowercase), digits, and underscores (_).\n",
    "\n",
    "Starting Character: Identifiers must start with a letter (a-z, A-Z) or an underscore (_). They cannot start with a digit.\n",
    "\n",
    "Case Sensitivity: Identifiers are case-sensitive. For example, my_variable and My_Variable are considered different identifiers.\n",
    "\n",
    "Reserved Keywords: Identifiers cannot be the same as Python keywords or reserved words. For example, you cannot use if, for, def, etc., as identifiers.\n",
    "\n",
    "Special Characters: Identifiers cannot contain special characters such as @, $, %, etc."
   ]
  },
  {
   "cell_type": "code",
   "execution_count": 3,
   "id": "88716d9b-fa97-47aa-af45-558bd751c7a5",
   "metadata": {},
   "outputs": [],
   "source": [
    "First_name = \"saurav\"\n",
    "LastName = \"Gupta\""
   ]
  },
  {
   "cell_type": "markdown",
   "id": "e38d6bfd-8188-4e1e-956a-62aab44501af",
   "metadata": {},
   "source": [
    "# ans3-\n",
    "Comments in Python are non-executable lines of text that are used to explain or document sections of code. They are ignored by the Python interpreter during execution. Comments are useful for making code more readable, understandable, and maintainable\n"
   ]
  },
  {
   "cell_type": "code",
   "execution_count": 6,
   "id": "ba09e135-5fb4-4608-a9c4-ca93148ae114",
   "metadata": {},
   "outputs": [
    {
     "data": {
      "text/plain": [
       "'for multi line comment'"
      ]
     },
     "execution_count": 6,
     "metadata": {},
     "output_type": "execute_result"
    }
   ],
   "source": [
    "# this is comment\n",
    "\"\"\"for multi line comment\"\"\"\n"
   ]
  },
  {
   "cell_type": "markdown",
   "id": "ddad4a3d-8a4b-4d5d-b5ed-3aa4b274e465",
   "metadata": {},
   "source": [
    "ans4-\n",
    "\n",
    "proper indentation is not just a stylistic preference in Python; it's a fundamental aspect of the language's syntax and structure. Adhering to consistent and clear indentation practices improves code readability, maintainability, and reliability."
   ]
  },
  {
   "cell_type": "code",
   "execution_count": 8,
   "id": "e9ba853e-0478-4746-9c3c-bf2abb17a2e2",
   "metadata": {},
   "outputs": [],
   "source": [
    "if 3 > 4:\n",
    "    print(\"yes\")"
   ]
  },
  {
   "cell_type": "markdown",
   "id": "54607e67-91c1-423e-89db-0f8f5a4a82bb",
   "metadata": {},
   "source": [
    "ans4-\n",
    "throws an error when indetation is wrong"
   ]
  },
  {
   "cell_type": "code",
   "execution_count": 9,
   "id": "ed25015f-72e7-4120-a4f6-145603a96033",
   "metadata": {},
   "outputs": [
    {
     "ename": "IndentationError",
     "evalue": "expected an indented block after 'if' statement on line 1 (2087321386.py, line 2)",
     "output_type": "error",
     "traceback": [
      "\u001b[0;36m  Cell \u001b[0;32mIn[9], line 2\u001b[0;36m\u001b[0m\n\u001b[0;31m    print(\"yes\")\u001b[0m\n\u001b[0m    ^\u001b[0m\n\u001b[0;31mIndentationError\u001b[0m\u001b[0;31m:\u001b[0m expected an indented block after 'if' statement on line 1\n"
     ]
    }
   ],
   "source": [
    "if 3>4:\n",
    "print(\"yes\")"
   ]
  },
  {
   "cell_type": "markdown",
   "id": "801e264b-8980-4fe0-9193-2f4b9bd5be35",
   "metadata": {},
   "source": [
    "ans 5\n",
    "\n",
    "Expressions produce values, while statements perform actions or control the flow of execution. Understanding the distinction between expressions and statements is crucial for writing effective Python code."
   ]
  },
  {
   "cell_type": "code",
   "execution_count": 10,
   "id": "53432de2-07bd-4ab2-9c08-b287bba9e093",
   "metadata": {},
   "outputs": [],
   "source": [
    "# Arithmetic expression\n",
    "result = 2 + 3 * (4 / 2)\n",
    "\n",
    "# Function call\n",
    "length = len(\"hello\")\n",
    "\n",
    "# Variable reference\n",
    "x = 10\n",
    "y = x * 2\n"
   ]
  },
  {
   "cell_type": "code",
   "execution_count": 11,
   "id": "995c766d-24c2-44a0-a2ec-73f3cb10f91e",
   "metadata": {},
   "outputs": [
    {
     "name": "stdout",
     "output_type": "stream",
     "text": [
      "x is greater than 5\n",
      "0\n",
      "1\n",
      "2\n",
      "3\n",
      "4\n"
     ]
    }
   ],
   "source": [
    "# Assignment statement\n",
    "x = 10\n",
    "\n",
    "# Conditional statement\n",
    "if x > 5:\n",
    "    print(\"x is greater than 5\")\n",
    "\n",
    "# Loop statement\n",
    "for i in range(5):\n",
    "    print(i)\n",
    "\n",
    "# Import statement\n",
    "import math\n"
   ]
  },
  {
   "cell_type": "code",
   "execution_count": null,
   "id": "50a85590-f2eb-4ca4-b068-d567ee9e854a",
   "metadata": {},
   "outputs": [],
   "source": []
  }
 ],
 "metadata": {
  "kernelspec": {
   "display_name": "Python 3 (ipykernel)",
   "language": "python",
   "name": "python3"
  },
  "language_info": {
   "codemirror_mode": {
    "name": "ipython",
    "version": 3
   },
   "file_extension": ".py",
   "mimetype": "text/x-python",
   "name": "python",
   "nbconvert_exporter": "python",
   "pygments_lexer": "ipython3",
   "version": "3.10.8"
  }
 },
 "nbformat": 4,
 "nbformat_minor": 5
}
